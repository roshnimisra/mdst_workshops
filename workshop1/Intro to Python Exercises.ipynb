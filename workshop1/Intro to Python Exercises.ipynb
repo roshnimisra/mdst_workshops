{
 "cells": [
  {
   "cell_type": "markdown",
   "metadata": {},
   "source": [
    "# Intro to Python Exercises"
   ]
  },
  {
   "cell_type": "code",
   "execution_count": 3,
   "metadata": {},
   "outputs": [],
   "source": [
    "def is_odd(x):\n",
    "    \"\"\"\n",
    "    returns True if x is odd and False otherwise\n",
    "    \"\"\"\n",
    "    if (x % 2) == 0:\n",
    "        return False\n",
    "    else:\n",
    "        return True"
   ]
  },
  {
   "cell_type": "code",
   "execution_count": 4,
   "metadata": {},
   "outputs": [],
   "source": [
    "def is_palindrome(word):\n",
    "    \"\"\"\n",
    "    returns whether `word` is spelled the same forwards and backwards\n",
    "    \"\"\"\n",
    "    # converts string into lowercase\n",
    "    word = word.lower()\n",
    "    # track count of repeated letters\n",
    "    count = 0\n",
    "    i = 0\n",
    "    while i < (len(word) // 2):\n",
    "        if word[i] == word[-(i + 1)]:\n",
    "            count += 1\n",
    "        i += 1\n",
    "    if count == (len(word) // 2):\n",
    "        return True\n",
    "    else:\n",
    "        return False"
   ]
  },
  {
   "cell_type": "code",
   "execution_count": 5,
   "metadata": {},
   "outputs": [],
   "source": [
    "def only_odds(numlist):\n",
    "    \"\"\"\n",
    "    returns a list of numbers that are odd from numlist\n",
    "\n",
    "    ex: only_odds([1, 2, 3, 4, 5, 6]) -> [1, 3, 5]\n",
    "    \"\"\"\n",
    "    odd_list = []\n",
    "    for i in numlist:\n",
    "        if is_odd(numlist[i - 1]):\n",
    "            odd_list.append(numlist[i - 1])\n",
    "    return odd_list"
   ]
  },
  {
   "cell_type": "code",
   "execution_count": 22,
   "metadata": {},
   "outputs": [],
   "source": [
    "def count_words(text):\n",
    "    \"\"\"\n",
    "    return a dictionary of {word: count} in the text\n",
    "\n",
    "    words should be split by spaces (and nothing else)\n",
    "    words should be converted to all lowercase\n",
    "\n",
    "    ex: count_words(\"How much wood would a woodchuck chuck\"\n",
    "                    \" if a woodchuck could chuck wood?\")\n",
    "        ->\n",
    "        {'how': 1, 'much': 1, 'wood': 1, 'would': 1, 'a': 2, 'woodchuck': 2,\n",
    "        'chuck': 2, 'if': 1, 'could': 1, 'wood?': 1}\n",
    "    \"\"\"\n",
    "    # convert text to all lowercase and add space to terminate string\n",
    "    text = text.lower() + \" \"\n",
    "    # initialize empty dictionary and blank word\n",
    "    dict = {}\n",
    "    new_word = \"\"\n",
    "    # add words in text to dict\n",
    "    for char in text:\n",
    "        if char.isspace() == False:\n",
    "            new_word += char\n",
    "        else:\n",
    "            if new_word in dict.keys():\n",
    "                dict[new_word] += 1\n",
    "                new_word = \"\"\n",
    "            else:\n",
    "                dict[new_word] = 1\n",
    "                new_word = \"\"\n",
    "    return dict"
   ]
  },
  {
   "cell_type": "code",
   "execution_count": 23,
   "metadata": {},
   "outputs": [
    {
     "name": "stdout",
     "output_type": "stream",
     "text": [
      "False\n",
      "True\n",
      "False\n",
      "True\n",
      "False\n",
      "True\n",
      "True\n",
      "True\n",
      "True\n",
      "[1, 3, 5]\n",
      "[1, -1]\n",
      "{'roshni': 3, 'misra': 3}\n",
      "{'how': 1, 'much': 1, 'wood': 1, 'would': 1, 'a': 2, 'woodchuck': 2, 'chuck': 2, 'if': 1, 'could': 1, 'wood?': 1}\n"
     ]
    }
   ],
   "source": [
    "# test cases\n",
    "print(is_odd(0))\n",
    "print(is_odd(5))\n",
    "print(is_odd(-2))\n",
    "print(is_odd(-1))\n",
    "\n",
    "print(is_palindrome(\"Roshni\"))\n",
    "print(is_palindrome(\"level\"))\n",
    "print(is_palindrome(\"Hannah\"))\n",
    "print(is_palindrome(\"hannah\"))\n",
    "print(is_palindrome(\"lol\"))\n",
    "\n",
    "print(only_odds([1, 2, 3, 4, 5, 6]))\n",
    "print(only_odds([-2, -1, 0, 1, 2]))\n",
    "\n",
    "print(count_words(\"Roshni Misra roshni misra ROSHNI MISRA\"))\n",
    "print(count_words(\"How much wood would a woodchuck chuck\"\n",
    "                    \" if a woodchuck could chuck wood?\"))"
   ]
  }
 ],
 "metadata": {
  "kernelspec": {
   "display_name": "Python 3",
   "language": "python",
   "name": "python3"
  },
  "language_info": {
   "codemirror_mode": {
    "name": "ipython",
    "version": 3
   },
   "file_extension": ".py",
   "mimetype": "text/x-python",
   "name": "python",
   "nbconvert_exporter": "python",
   "pygments_lexer": "ipython3",
   "version": "3.8.5"
  }
 },
 "nbformat": 4,
 "nbformat_minor": 2
}
